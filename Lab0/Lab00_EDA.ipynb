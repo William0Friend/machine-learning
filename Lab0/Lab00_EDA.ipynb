{
 "cells": [
  {
   "cell_type": "markdown",
   "id": "c0613bce",
   "metadata": {},
   "source": [
    "# Lab0 - Exploratory Data Analysis"
   ]
  },
  {
   "cell_type": "markdown",
   "id": "9021e8f9",
   "metadata": {},
   "source": [
    "Imagine we are interested in predicting breast cancer (benign or maligant). First we want to do some\n",
    "data exploration to get a feel for the data.\n",
    "\n",
    "Source: https://archive.ics.uci.edu/dataset/17/breast+cancer+wisconsin+diagnostic"
   ]
  },
  {
   "cell_type": "markdown",
   "id": "d8212853",
   "metadata": {},
   "source": [
    "## 0: Import libraries"
   ]
  },
  {
   "cell_type": "code",
   "execution_count": 17,
   "id": "3ae4c0c6",
   "metadata": {},
   "outputs": [],
   "source": [
    "# 0. import libraries\n",
    "# your source code below\n",
    "import numpy;\n",
    "import pandas;\n",
    "import matplotlib;\n",
    "\n",
    "\n",
    "#import warnings library\n"
   ]
  },
  {
   "cell_type": "markdown",
   "id": "917d4daa",
   "metadata": {},
   "source": [
    "## 1. Load Data "
   ]
  },
  {
   "cell_type": "code",
   "execution_count": 18,
   "id": "3444b900",
   "metadata": {},
   "outputs": [],
   "source": [
    "# 1.1 read the data into dataframe\n",
    "# your source code below\n",
    "\n"
   ]
  },
  {
   "cell_type": "code",
   "execution_count": null,
   "id": "cf629e08",
   "metadata": {},
   "outputs": [],
   "source": []
  },
  {
   "cell_type": "code",
   "execution_count": 19,
   "id": "a4340699",
   "metadata": {},
   "outputs": [],
   "source": [
    "# 1.2 Show a few samples of the data  hint: use head().\n",
    "# your source code below\n"
   ]
  },
  {
   "cell_type": "code",
   "execution_count": 20,
   "id": "01fb5128",
   "metadata": {},
   "outputs": [],
   "source": [
    "# 1.3 Display the information data such as each column's type, non-null information hint: use info().\n",
    "# your source code below\n"
   ]
  },
  {
   "cell_type": "code",
   "execution_count": 21,
   "id": "8586a7a3",
   "metadata": {
    "scrolled": true
   },
   "outputs": [],
   "source": [
    "# 1.4 Display the summary information of data such mean and standard deviation. hint: use describe().\n",
    "# your source code below\n",
    "\n"
   ]
  },
  {
   "cell_type": "code",
   "execution_count": 22,
   "id": "fd9be89b",
   "metadata": {},
   "outputs": [],
   "source": [
    "# 1.5 print out the label count for each classification. hint: use value_counts().\n",
    "# your source code below\n"
   ]
  },
  {
   "cell_type": "markdown",
   "id": "7437d525",
   "metadata": {},
   "source": [
    "## 2. Process Data "
   ]
  },
  {
   "cell_type": "code",
   "execution_count": 23,
   "id": "14c62cab",
   "metadata": {},
   "outputs": [],
   "source": [
    "# 2.1 drop the columns of ['Unnamed: 32','id'] from the dataframe hint: use drop()\n",
    "# your source code below\n"
   ]
  },
  {
   "cell_type": "code",
   "execution_count": 24,
   "id": "7c7cf8c3",
   "metadata": {},
   "outputs": [],
   "source": [
    "# 2.2 store the feature names as a list, and print it out\n",
    "# your source code below\n",
    "\n"
   ]
  },
  {
   "cell_type": "code",
   "execution_count": 25,
   "id": "ed347b5c",
   "metadata": {},
   "outputs": [],
   "source": [
    "# 2.3 construct X and y, so that:\n",
    "# - X holds all data information except lable column (i.e., diagnosis)\n",
    "# - y hold the data label column (i.e., diagnosis)\n",
    "# you still keep your original dataframe for later use\n",
    "# print out the shapes of the dataframe, X and y\n",
    "\n",
    "# your source code below\n",
    "\n"
   ]
  },
  {
   "cell_type": "markdown",
   "id": "f9511550",
   "metadata": {},
   "source": [
    "## 3. Visualize Data"
   ]
  },
  {
   "cell_type": "code",
   "execution_count": 26,
   "id": "a715de84",
   "metadata": {},
   "outputs": [],
   "source": [
    "#3.1: Plot histograms for X (all 30 features) hint: use subplots and histograms\n",
    "# make sure your subplots should be well spaced\n",
    "# your source code below\n",
    "\n",
    "\n"
   ]
  },
  {
   "cell_type": "code",
   "execution_count": null,
   "id": "3d353893",
   "metadata": {
    "scrolled": true
   },
   "outputs": [],
   "source": []
  },
  {
   "cell_type": "code",
   "execution_count": 27,
   "id": "94f4306b",
   "metadata": {},
   "outputs": [],
   "source": [
    "# 3.2: do pairplot for the first five columns in data matrix\n",
    "# hint: using seaborn.pairplot, and use hue ='diagnosis'\n",
    "# make sure you only extract the first five columns\n",
    "\n",
    "# your source code below\n",
    "\n"
   ]
  },
  {
   "cell_type": "code",
   "execution_count": null,
   "id": "8333e8ad",
   "metadata": {},
   "outputs": [],
   "source": []
  }
 ],
 "metadata": {
  "jupytext": {
   "main_language": "python"
  },
  "kernelspec": {
   "display_name": "Python 3 (ipykernel)",
   "language": "python",
   "name": "python3"
  },
  "language_info": {
   "codemirror_mode": {
    "name": "ipython",
    "version": 3
   },
   "file_extension": ".py",
   "mimetype": "text/x-python",
   "name": "python",
   "nbconvert_exporter": "python",
   "pygments_lexer": "ipython3",
   "version": "3.11.4"
  }
 },
 "nbformat": 4,
 "nbformat_minor": 5
}
